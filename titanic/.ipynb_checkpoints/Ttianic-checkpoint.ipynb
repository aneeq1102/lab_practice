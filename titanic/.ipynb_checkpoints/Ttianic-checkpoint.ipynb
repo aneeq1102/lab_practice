{
 "cells": [
  {
   "cell_type": "code",
   "execution_count": 1,
   "id": "3d9af108",
   "metadata": {},
   "outputs": [],
   "source": [
    "import numpy as np\n",
    "import pandas as pd\n"
   ]
  },
  {
   "cell_type": "code",
   "execution_count": null,
   "id": "f20dae48",
   "metadata": {},
   "outputs": [],
   "source": [
    "df_train = pd.read_csv('D:\\sem6\\ML\\lab test practice\\titanic\\train.csv')\n",
    "df_test = pd.read_csv()"
   ]
  }
 ],
 "metadata": {
  "kernelspec": {
   "display_name": "Python 3",
   "language": "python",
   "name": "python3"
  },
  "language_info": {
   "codemirror_mode": {
    "name": "ipython",
    "version": 3
   },
   "file_extension": ".py",
   "mimetype": "text/x-python",
   "name": "python",
   "nbconvert_exporter": "python",
   "pygments_lexer": "ipython3",
   "version": "3.10.4"
  }
 },
 "nbformat": 4,
 "nbformat_minor": 5
}
